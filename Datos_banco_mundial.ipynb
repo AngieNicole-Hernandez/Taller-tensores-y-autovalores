{
 "cells": [
  {
   "cell_type": "code",
   "execution_count": 30,
   "metadata": {},
   "outputs": [],
   "source": [
    "import pandas as pd\n",
    "import numpy as np\n",
    "import seaborn as sn\n",
    "import matplotlib.pyplot as plt\n",
    " "
   ]
  },
  {
   "cell_type": "markdown",
   "metadata": {},
   "source": [
    "## Los datos"
   ]
  },
  {
   "cell_type": "code",
   "execution_count": 2,
   "metadata": {},
   "outputs": [],
   "source": [
    "li = [4,48]\n",
    "r = [i for i in range(max(li)) if i not in li]\n",
    "milit = pd.read_csv(r'/home/nicole/Documents/books/modelado y simulación/trabajo3 tensores y autovalores/Military expenditure (% of GDP) - Colombia.csv', skiprows=r,nrows= max(li))\n",
    "milit = milit.head(1).dropna(axis = 1)"
   ]
  },
  {
   "cell_type": "code",
   "execution_count": 3,
   "metadata": {},
   "outputs": [
    {
     "data": {
      "text/html": [
       "<div>\n",
       "<style scoped>\n",
       "    .dataframe tbody tr th:only-of-type {\n",
       "        vertical-align: middle;\n",
       "    }\n",
       "\n",
       "    .dataframe tbody tr th {\n",
       "        vertical-align: top;\n",
       "    }\n",
       "\n",
       "    .dataframe thead th {\n",
       "        text-align: right;\n",
       "    }\n",
       "</style>\n",
       "<table border=\"1\" class=\"dataframe\">\n",
       "  <thead>\n",
       "    <tr style=\"text-align: right;\">\n",
       "      <th></th>\n",
       "      <th>Country Name</th>\n",
       "      <th>Country Code</th>\n",
       "      <th>Indicator Name</th>\n",
       "      <th>Indicator Code</th>\n",
       "      <th>1960</th>\n",
       "      <th>1961</th>\n",
       "      <th>1962</th>\n",
       "      <th>1963</th>\n",
       "      <th>1964</th>\n",
       "      <th>1965</th>\n",
       "      <th>...</th>\n",
       "      <th>2009</th>\n",
       "      <th>2010</th>\n",
       "      <th>2011</th>\n",
       "      <th>2012</th>\n",
       "      <th>2013</th>\n",
       "      <th>2014</th>\n",
       "      <th>2015</th>\n",
       "      <th>2016</th>\n",
       "      <th>2017</th>\n",
       "      <th>2018</th>\n",
       "    </tr>\n",
       "  </thead>\n",
       "  <tbody>\n",
       "    <tr>\n",
       "      <th>0</th>\n",
       "      <td>Colombia</td>\n",
       "      <td>COL</td>\n",
       "      <td>Military expenditure (% of GDP)</td>\n",
       "      <td>MS.MIL.XPND.GD.ZS</td>\n",
       "      <td>1.884323</td>\n",
       "      <td>2.143256</td>\n",
       "      <td>3.099415</td>\n",
       "      <td>3.51514</td>\n",
       "      <td>3.180804</td>\n",
       "      <td>3.190947</td>\n",
       "      <td>...</td>\n",
       "      <td>3.863295</td>\n",
       "      <td>3.631149</td>\n",
       "      <td>3.072783</td>\n",
       "      <td>3.166777</td>\n",
       "      <td>3.288825</td>\n",
       "      <td>3.132228</td>\n",
       "      <td>3.130893</td>\n",
       "      <td>3.075072</td>\n",
       "      <td>3.186273</td>\n",
       "      <td>3.17256</td>\n",
       "    </tr>\n",
       "  </tbody>\n",
       "</table>\n",
       "<p>1 rows × 63 columns</p>\n",
       "</div>"
      ],
      "text/plain": [
       "  Country Name Country Code                   Indicator Name  \\\n",
       "0     Colombia          COL  Military expenditure (% of GDP)   \n",
       "\n",
       "      Indicator Code      1960      1961      1962     1963      1964  \\\n",
       "0  MS.MIL.XPND.GD.ZS  1.884323  2.143256  3.099415  3.51514  3.180804   \n",
       "\n",
       "       1965  ...      2009      2010      2011      2012      2013      2014  \\\n",
       "0  3.190947  ...  3.863295  3.631149  3.072783  3.166777  3.288825  3.132228   \n",
       "\n",
       "       2015      2016      2017     2018  \n",
       "0  3.130893  3.075072  3.186273  3.17256  \n",
       "\n",
       "[1 rows x 63 columns]"
      ]
     },
     "execution_count": 3,
     "metadata": {},
     "output_type": "execute_result"
    }
   ],
   "source": [
    "milit"
   ]
  },
  {
   "cell_type": "code",
   "execution_count": 4,
   "metadata": {},
   "outputs": [],
   "source": [
    "helth = pd.read_csv(r'/home/nicole/Documents/books/modelado y simulación/trabajo3 tensores y autovalores/Current health expenditure (% of GDP) - Colombia.csv', skiprows=r,nrows= max(li))\n",
    "helth = helth.head(1).dropna(axis = 1)"
   ]
  },
  {
   "cell_type": "code",
   "execution_count": 5,
   "metadata": {},
   "outputs": [
    {
     "data": {
      "text/html": [
       "<div>\n",
       "<style scoped>\n",
       "    .dataframe tbody tr th:only-of-type {\n",
       "        vertical-align: middle;\n",
       "    }\n",
       "\n",
       "    .dataframe tbody tr th {\n",
       "        vertical-align: top;\n",
       "    }\n",
       "\n",
       "    .dataframe thead th {\n",
       "        text-align: right;\n",
       "    }\n",
       "</style>\n",
       "<table border=\"1\" class=\"dataframe\">\n",
       "  <thead>\n",
       "    <tr style=\"text-align: right;\">\n",
       "      <th></th>\n",
       "      <th>Country Name</th>\n",
       "      <th>Country Code</th>\n",
       "      <th>Indicator Name</th>\n",
       "      <th>Indicator Code</th>\n",
       "      <th>2000</th>\n",
       "      <th>2001</th>\n",
       "      <th>2002</th>\n",
       "      <th>2003</th>\n",
       "      <th>2004</th>\n",
       "      <th>2005</th>\n",
       "      <th>...</th>\n",
       "      <th>2008</th>\n",
       "      <th>2009</th>\n",
       "      <th>2010</th>\n",
       "      <th>2011</th>\n",
       "      <th>2012</th>\n",
       "      <th>2013</th>\n",
       "      <th>2014</th>\n",
       "      <th>2015</th>\n",
       "      <th>2016</th>\n",
       "      <th>2017</th>\n",
       "    </tr>\n",
       "  </thead>\n",
       "  <tbody>\n",
       "    <tr>\n",
       "      <th>0</th>\n",
       "      <td>Colombia</td>\n",
       "      <td>COL</td>\n",
       "      <td>Current health expenditure (% of GDP)</td>\n",
       "      <td>SH.XPD.CHEX.GD.ZS</td>\n",
       "      <td>5.652304</td>\n",
       "      <td>5.96032</td>\n",
       "      <td>5.750262</td>\n",
       "      <td>5.792491</td>\n",
       "      <td>5.816432</td>\n",
       "      <td>6.085412</td>\n",
       "      <td>...</td>\n",
       "      <td>6.855401</td>\n",
       "      <td>7.308318</td>\n",
       "      <td>7.082657</td>\n",
       "      <td>6.790699</td>\n",
       "      <td>6.752311</td>\n",
       "      <td>7.262699</td>\n",
       "      <td>7.14658</td>\n",
       "      <td>7.297423</td>\n",
       "      <td>7.21368</td>\n",
       "      <td>7.226281</td>\n",
       "    </tr>\n",
       "  </tbody>\n",
       "</table>\n",
       "<p>1 rows × 22 columns</p>\n",
       "</div>"
      ],
      "text/plain": [
       "  Country Name Country Code                         Indicator Name  \\\n",
       "0     Colombia          COL  Current health expenditure (% of GDP)   \n",
       "\n",
       "      Indicator Code      2000     2001      2002      2003      2004  \\\n",
       "0  SH.XPD.CHEX.GD.ZS  5.652304  5.96032  5.750262  5.792491  5.816432   \n",
       "\n",
       "       2005  ...      2008      2009      2010      2011      2012      2013  \\\n",
       "0  6.085412  ...  6.855401  7.308318  7.082657  6.790699  6.752311  7.262699   \n",
       "\n",
       "      2014      2015     2016      2017  \n",
       "0  7.14658  7.297423  7.21368  7.226281  \n",
       "\n",
       "[1 rows x 22 columns]"
      ]
     },
     "execution_count": 5,
     "metadata": {},
     "output_type": "execute_result"
    }
   ],
   "source": [
    "helth"
   ]
  },
  {
   "cell_type": "code",
   "execution_count": 6,
   "metadata": {},
   "outputs": [],
   "source": [
    "sci = pd.read_csv(r'/home/nicole/Documents/books/modelado y simulación/trabajo3 tensores y autovalores/Research and development expenditure (% of GDP) - Colombia.csv', skiprows=r,nrows= max(li))\n",
    "sci = sci.head(1).dropna(axis = 1)"
   ]
  },
  {
   "cell_type": "code",
   "execution_count": 7,
   "metadata": {},
   "outputs": [
    {
     "data": {
      "text/html": [
       "<div>\n",
       "<style scoped>\n",
       "    .dataframe tbody tr th:only-of-type {\n",
       "        vertical-align: middle;\n",
       "    }\n",
       "\n",
       "    .dataframe tbody tr th {\n",
       "        vertical-align: top;\n",
       "    }\n",
       "\n",
       "    .dataframe thead th {\n",
       "        text-align: right;\n",
       "    }\n",
       "</style>\n",
       "<table border=\"1\" class=\"dataframe\">\n",
       "  <thead>\n",
       "    <tr style=\"text-align: right;\">\n",
       "      <th></th>\n",
       "      <th>Country Name</th>\n",
       "      <th>Country Code</th>\n",
       "      <th>Indicator Name</th>\n",
       "      <th>Indicator Code</th>\n",
       "      <th>1996</th>\n",
       "      <th>1997</th>\n",
       "      <th>2000</th>\n",
       "      <th>2001</th>\n",
       "      <th>2002</th>\n",
       "      <th>2003</th>\n",
       "      <th>...</th>\n",
       "      <th>2009</th>\n",
       "      <th>2010</th>\n",
       "      <th>2011</th>\n",
       "      <th>2012</th>\n",
       "      <th>2013</th>\n",
       "      <th>2014</th>\n",
       "      <th>2015</th>\n",
       "      <th>2016</th>\n",
       "      <th>2017</th>\n",
       "      <th>2018</th>\n",
       "    </tr>\n",
       "  </thead>\n",
       "  <tbody>\n",
       "    <tr>\n",
       "      <th>0</th>\n",
       "      <td>Colombia</td>\n",
       "      <td>COL</td>\n",
       "      <td>Research and development expenditure (% of GDP)</td>\n",
       "      <td>GB.XPD.RSDV.GD.ZS</td>\n",
       "      <td>0.29923</td>\n",
       "      <td>0.27366</td>\n",
       "      <td>0.12999</td>\n",
       "      <td>0.13183</td>\n",
       "      <td>0.13944</td>\n",
       "      <td>0.15602</td>\n",
       "      <td>...</td>\n",
       "      <td>0.196</td>\n",
       "      <td>0.19532</td>\n",
       "      <td>0.20625</td>\n",
       "      <td>0.234</td>\n",
       "      <td>0.27128</td>\n",
       "      <td>0.30563</td>\n",
       "      <td>0.28975</td>\n",
       "      <td>0.26694</td>\n",
       "      <td>0.24294</td>\n",
       "      <td>0.23699</td>\n",
       "    </tr>\n",
       "  </tbody>\n",
       "</table>\n",
       "<p>1 rows × 25 columns</p>\n",
       "</div>"
      ],
      "text/plain": [
       "  Country Name Country Code                                   Indicator Name  \\\n",
       "0     Colombia          COL  Research and development expenditure (% of GDP)   \n",
       "\n",
       "      Indicator Code     1996     1997     2000     2001     2002     2003  \\\n",
       "0  GB.XPD.RSDV.GD.ZS  0.29923  0.27366  0.12999  0.13183  0.13944  0.15602   \n",
       "\n",
       "   ...   2009     2010     2011   2012     2013     2014     2015     2016  \\\n",
       "0  ...  0.196  0.19532  0.20625  0.234  0.27128  0.30563  0.28975  0.26694   \n",
       "\n",
       "      2017     2018  \n",
       "0  0.24294  0.23699  \n",
       "\n",
       "[1 rows x 25 columns]"
      ]
     },
     "execution_count": 7,
     "metadata": {},
     "output_type": "execute_result"
    }
   ],
   "source": [
    "sci"
   ]
  },
  {
   "cell_type": "code",
   "execution_count": 8,
   "metadata": {},
   "outputs": [],
   "source": [
    "edu = pd.read_csv(r'/home/nicole/Documents/books/modelado y simulación/trabajo3 tensores y autovalores/Government expenditure on education, total (% of GDP) - Colombia.csv', skiprows=r,nrows= max(li))\n",
    "edu = edu.head(1).dropna(axis = 1)"
   ]
  },
  {
   "cell_type": "code",
   "execution_count": 9,
   "metadata": {},
   "outputs": [
    {
     "data": {
      "text/html": [
       "<div>\n",
       "<style scoped>\n",
       "    .dataframe tbody tr th:only-of-type {\n",
       "        vertical-align: middle;\n",
       "    }\n",
       "\n",
       "    .dataframe tbody tr th {\n",
       "        vertical-align: top;\n",
       "    }\n",
       "\n",
       "    .dataframe thead th {\n",
       "        text-align: right;\n",
       "    }\n",
       "</style>\n",
       "<table border=\"1\" class=\"dataframe\">\n",
       "  <thead>\n",
       "    <tr style=\"text-align: right;\">\n",
       "      <th></th>\n",
       "      <th>Country Name</th>\n",
       "      <th>Country Code</th>\n",
       "      <th>Indicator Name</th>\n",
       "      <th>Indicator Code</th>\n",
       "      <th>1979</th>\n",
       "      <th>1980</th>\n",
       "      <th>1981</th>\n",
       "      <th>1984</th>\n",
       "      <th>1985</th>\n",
       "      <th>1989</th>\n",
       "      <th>...</th>\n",
       "      <th>2009</th>\n",
       "      <th>2010</th>\n",
       "      <th>2011</th>\n",
       "      <th>2012</th>\n",
       "      <th>2013</th>\n",
       "      <th>2014</th>\n",
       "      <th>2015</th>\n",
       "      <th>2016</th>\n",
       "      <th>2017</th>\n",
       "      <th>2018</th>\n",
       "    </tr>\n",
       "  </thead>\n",
       "  <tbody>\n",
       "    <tr>\n",
       "      <th>0</th>\n",
       "      <td>Colombia</td>\n",
       "      <td>COL</td>\n",
       "      <td>Government expenditure on education, total (% ...</td>\n",
       "      <td>SE.XPD.TOTL.GD.ZS</td>\n",
       "      <td>1.75434</td>\n",
       "      <td>1.72912</td>\n",
       "      <td>2.59724</td>\n",
       "      <td>3.00429</td>\n",
       "      <td>2.71527</td>\n",
       "      <td>2.70525</td>\n",
       "      <td>...</td>\n",
       "      <td>4.77454</td>\n",
       "      <td>4.84159</td>\n",
       "      <td>4.47262</td>\n",
       "      <td>4.37448</td>\n",
       "      <td>4.88174</td>\n",
       "      <td>4.62946</td>\n",
       "      <td>4.47039</td>\n",
       "      <td>4.47721</td>\n",
       "      <td>4.53688</td>\n",
       "      <td>4.50259</td>\n",
       "    </tr>\n",
       "  </tbody>\n",
       "</table>\n",
       "<p>1 rows × 31 columns</p>\n",
       "</div>"
      ],
      "text/plain": [
       "  Country Name Country Code  \\\n",
       "0     Colombia          COL   \n",
       "\n",
       "                                      Indicator Name     Indicator Code  \\\n",
       "0  Government expenditure on education, total (% ...  SE.XPD.TOTL.GD.ZS   \n",
       "\n",
       "      1979     1980     1981     1984     1985     1989  ...     2009  \\\n",
       "0  1.75434  1.72912  2.59724  3.00429  2.71527  2.70525  ...  4.77454   \n",
       "\n",
       "      2010     2011     2012     2013     2014     2015     2016     2017  \\\n",
       "0  4.84159  4.47262  4.37448  4.88174  4.62946  4.47039  4.47721  4.53688   \n",
       "\n",
       "      2018  \n",
       "0  4.50259  \n",
       "\n",
       "[1 rows x 31 columns]"
      ]
     },
     "execution_count": 9,
     "metadata": {},
     "output_type": "execute_result"
    }
   ],
   "source": [
    "edu"
   ]
  },
  {
   "cell_type": "markdown",
   "metadata": {},
   "source": [
    "## Matriz de covarianza"
   ]
  },
  {
   "cell_type": "code",
   "execution_count": 31,
   "metadata": {},
   "outputs": [
    {
     "data": {
      "image/png": "[encoded data removed]",
      "text/plain": [
       "<Figure size 432x288 with 2 Axes>"
      ]
     },
     "metadata": {
      "needs_background": "light"
     },
     "output_type": "display_data"
    }
   ],
   "source": [
    "military = np.array(milit.loc[0,'2007':'2017'], dtype = float) \n",
    "health = np.array(helth.loc[0,'2007':'2017'], dtype = float) \n",
    "science = np.array(sci.loc[0,'2007':'2017'], dtype = float) \n",
    "education = np.array(edu.loc[0,'2007':'2017'], dtype = float) \n",
    "\n",
    "data = np.array([military,health,science,education])\n",
    "\n",
    "covMatrix = np.cov(data,bias=True)\n",
    "#print (covMatrix)\n",
    "\n",
    "sn.heatmap(covMatrix, annot=True, fmt='g')\n",
    "plt.savefig('covar.png')\n",
    "plt.show()"
   ]
  },
  {
   "cell_type": "markdown",
   "metadata": {},
   "source": [
    "Autovalores y autovectores de la matriz de covarianza"
   ]
  },
  {
   "cell_type": "code",
   "execution_count": 11,
   "metadata": {},
   "outputs": [
    {
     "name": "stdout",
     "output_type": "stream",
     "text": [
      "[0.12314997 0.07040729 0.0003637  0.02201972]\n",
      "[[ 0.1581883   0.98218587 -0.09924119  0.02094207]\n",
      " [ 0.66229027 -0.07884676  0.12016155 -0.73533393]\n",
      " [ 0.0437666  -0.10445368 -0.98737684 -0.11072889]\n",
      " [ 0.73104893 -0.13484635 -0.02827295  0.66826982]]\n"
     ]
    }
   ],
   "source": [
    "w, v = np.linalg.eig(covMatrix)\n",
    "\n",
    "print(w)\n",
    "print(v)"
   ]
  },
  {
   "cell_type": "markdown",
   "metadata": {},
   "source": [
    "## Matriz de correlación"
   ]
  },
  {
   "cell_type": "code",
   "execution_count": 40,
   "metadata": {},
   "outputs": [],
   "source": [
    "data1 = {'d' : milit.loc[0,'2007':'2017'].astype(float),\n",
    "        's' : helth.loc[0,'2007':'2017'].astype(float),\n",
    "        'c' : sci.loc[0,'2007':'2017'].astype(float),\n",
    "        'e' : edu.loc[0,'2007':'2017'].astype(float)\n",
    "        }"
   ]
  },
  {
   "cell_type": "code",
   "execution_count": 41,
   "metadata": {},
   "outputs": [],
   "source": [
    "df = pd.DataFrame(data1,columns=['d','s','c','e'])\n",
    "#print (df)"
   ]
  },
  {
   "cell_type": "code",
   "execution_count": 42,
   "metadata": {},
   "outputs": [
    {
     "data": {
      "image/png": "[encoded data removed]",
      "text/plain": [
       "<Figure size 432x288 with 2 Axes>"
      ]
     },
     "metadata": {
      "needs_background": "light"
     },
     "output_type": "display_data"
    }
   ],
   "source": [
    "corrMatrix = df.corr()\n",
    "#print (corrMatrix)\n",
    "\n",
    "sn.heatmap(corrMatrix, annot=True)\n",
    "plt.savefig('correlation.png')\n",
    "plt.show()"
   ]
  },
  {
   "cell_type": "code",
   "execution_count": null,
   "metadata": {},
   "outputs": [],
   "source": []
  }
 ],
 "metadata": {
  "kernelspec": {
   "display_name": "Python 3",
   "language": "python",
   "name": "python3"
  },
  "language_info": {
   "codemirror_mode": {
    "name": "ipython",
    "version": 3
   },
   "file_extension": ".py",
   "mimetype": "text/x-python",
   "name": "python",
   "nbconvert_exporter": "python",
   "pygments_lexer": "ipython3",
   "version": "3.8.3"
  }
 },
 "nbformat": 4,
 "nbformat_minor": 4
}
